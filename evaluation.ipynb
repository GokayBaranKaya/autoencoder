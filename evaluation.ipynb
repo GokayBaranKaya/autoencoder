{
 "cells": [
  {
   "cell_type": "markdown",
   "metadata": {},
   "source": [
    "Importing Necessary Libraries"
   ]
  },
  {
   "cell_type": "code",
   "execution_count": null,
   "metadata": {},
   "outputs": [],
   "source": [
    "import numpy as np\n",
    "import os\n",
    "from tensorflow.keras.models import load_model\n",
    "from tensorflow.keras.preprocessing.image import img_to_array, load_img\n",
    "from skimage.metrics import peak_signal_noise_ratio as psnr\n",
    "from skimage.metrics import structural_similarity as ssim\n",
    "from skimage.color import rgb2gray\n",
    "import matplotlib.pyplot as plt\n",
    "\n"
   ]
  },
  {
   "cell_type": "markdown",
   "metadata": {},
   "source": [
    "Declaring the Test Image Set and Outputset and Importing Saved Models"
   ]
  },
  {
   "cell_type": "code",
   "execution_count": null,
   "metadata": {},
   "outputs": [],
   "source": [
    "#input(test) and output directories\n",
    "test_dir = 'C:/Users/GOKAY/Desktop/imagenette4/test/'\n",
    "output_ae_dir = 'C:/Users/GOKAY/Desktop/compressed_images/'\n",
    "\n",
    "#loading models\n",
    "ae1 = load_model('C:/Users/GOKAY/Desktop/tez_kod/ae1.keras')\n",
    "ae2 = load_model('C:/Users/GOKAY/Desktop/tez_kod/ae2.keras')\n",
    "ae3 = load_model('C:/Users/GOKAY/Desktop/tez_kod/ae3.keras')\n"
   ]
  },
  {
   "cell_type": "markdown",
   "metadata": {},
   "source": [
    "Creating a Function to Evaluate Autoencoders and Saving Pictures"
   ]
  },
  {
   "cell_type": "code",
   "execution_count": null,
   "metadata": {},
   "outputs": [],
   "source": [
    "def evaluate_ae(ae):\n",
    "    psnr_values = []\n",
    "    ssim_values = []\n",
    "    i = 0\n",
    "    #the loops takes one image at a time and predicts it by the autoencoder, so that evaluation can be done on each image seperately\n",
    "    for img in os.listdir(test_dir):\n",
    "        if img.endswith(\".JPEG\"):\n",
    "            #Importing an image from test file and turning into an array for evaluation\n",
    "            img_path = os.path.join(test_dir, img)\n",
    "            img = load_img(img_path)\n",
    "            img_array = img_to_array(img)\n",
    "            #expanding dimension of the image for autoencoder to predict\n",
    "            img_array_expanded = np.expand_dims(img_array, axis=0)\n",
    "\n",
    "            #predicting the image and getting it as output\n",
    "            output = ae.predict(img_array_expanded)\n",
    "            output_image = output[0]\n",
    "\n",
    "            #saving and visualising 20 images of predictions\n",
    "            if i < 20:\n",
    "                plt.figure(figsize=(1, 1))\n",
    "                plt.imshow(image.array_to_img(output_image))\n",
    "                plt.gray()\n",
    "                plt.axis('off')\n",
    "                filename = f\"{output_ae_dir}image{i}.png\"    \n",
    "                i+=1\n",
    "                plt.savefig(filename, bbox_inches='tight', pad_inches=0)\n",
    "            \n",
    "            #psnr value is received and added to the list\n",
    "            current_psnr = psnr(img_array, output_image, data_range=255)\n",
    "            psnr_values.append(current_psnr)\n",
    "\n",
    "            #images are turned into grayscale for ssim evaluation\n",
    "            gray_original = rgb2gray(img_array)\n",
    "            gray_output = rgb2gray(output_image)\n",
    "            \n",
    "            #ssim value is received and added to the list\n",
    "            current_ssim = ssim(gray_original, gray_output, data_range=255)\n",
    "            ssim_values.append(current_ssim)\n",
    "\n",
    "    #mean values of metrics are calculated as final result and returned\n",
    "    mean_psnr = np.mean(psnr_values)\n",
    "    mean_ssim = np.mean(ssim_values)\n",
    "\n",
    "    return mean_psnr, mean_ssim"
   ]
  },
  {
   "cell_type": "code",
   "execution_count": null,
   "metadata": {},
   "outputs": [],
   "source": [
    "print(\"Result for first autoencoder:\",evaluate_ae(ae1))\n",
    "print(\"Result for second autoencoder:\",evaluate_ae(ae2))\n",
    "print(\"Result for third autoencoder:\",evaluate_ae(ae3))"
   ]
  },
  {
   "cell_type": "markdown",
   "metadata": {},
   "source": [
    "Preparing The Directories of Images of Conventional Methods"
   ]
  },
  {
   "cell_type": "code",
   "execution_count": null,
   "metadata": {},
   "outputs": [],
   "source": [
    "directory = 'C:/Users/GOKAY/Desktop/compressed_images/conv/'\n",
    "sub_directories = [\n",
    "    'jpeg 25/',\n",
    "    'jpeg 50/',\n",
    "    'jpeg 75/',\n",
    "    'WEBP 25/',\n",
    "    'WEBP 50/',\n",
    "    'WEBP 75/',\n",
    "    'tiff/'\n",
    "]      "
   ]
  },
  {
   "cell_type": "markdown",
   "metadata": {},
   "source": [
    "Creating a Function to Evaluate Conventional Methods"
   ]
  },
  {
   "cell_type": "code",
   "execution_count": null,
   "metadata": {},
   "outputs": [],
   "source": [
    "def evaluate_conv(dir):\n",
    "    psnr_values = []\n",
    "    ssim_values = []\n",
    "    #same as in evaluation of autoencoders, evaluation is done one at a time for each image\n",
    "    for img in os.listdir(test_dir):\n",
    "        if img.endswith(\".JPEG\"):\n",
    "            #importing an image and turning it into an array for evaluation\n",
    "            org_img_path = os.path.join(test_dir, img)\n",
    "            org_img = load_img(org_img_path)\n",
    "            org_img_array = img_to_array(org_img)\n",
    "\n",
    "            #finding the same image in the compressed image directories of conventional methods\n",
    "            if dir.lower().startswith(\"jpeg\"):\n",
    "                comp_img_path = f'{directory}{dir}{img}'\n",
    "            elif dir.lower().startswith(\"tiff\"):\n",
    "                comp_img_path = f'{directory}{dir}{img[:-5]}.tiff'\n",
    "            else:\n",
    "                comp_img_path = f'{directory}{dir}{img[:-5]}.webp'\n",
    "            \n",
    "            #receiving the compressed image and turning it into an array\n",
    "            rec_img = load_img(comp_img_path)\n",
    "            rec_img_array = img_to_array(rec_img)\n",
    "            \n",
    "            #psnr value is received and added to the list\n",
    "            current_psnr = psnr(org_img_array, rec_img_array, data_range=255)\n",
    "            psnr_values.append(current_psnr)\n",
    "\n",
    "            #image arrays are turned into gray scale for ssim evaluation\n",
    "            gray_original = rgb2gray(org_img_array)\n",
    "            gray_compressed = rgb2gray(rec_img_array)\n",
    "\n",
    "            #ssim values is received and added to the list\n",
    "            current_ssim = ssim(gray_original, gray_compressed, data_range=255)\n",
    "            ssim_values.append(current_ssim)\n",
    "\n",
    "    #mean values of metrics are calculated as final result and returned \n",
    "    mean_psnr = np.mean(psnr_values)\n",
    "    mean_ssim = np.mean(ssim_values)\n",
    "\n",
    "    return mean_psnr, mean_ssim"
   ]
  },
  {
   "cell_type": "code",
   "execution_count": null,
   "metadata": {},
   "outputs": [],
   "source": [
    "print(\"Result for jpeg 25:\",evaluate_conv(sub_directories[0]))\n",
    "print(\"Result for jpeg 50:\",evaluate_conv(sub_directories[1]))\n",
    "print(\"Result for jpeg 75:\",evaluate_conv(sub_directories[2]))\n",
    "print(\"Result for webp 25:\",evaluate_conv(sub_directories[3]))\n",
    "print(\"Result for webp 50:\",evaluate_conv(sub_directories[4]))\n",
    "print(\"Result for webp 75:\",evaluate_conv(sub_directories[5]))\n",
    "print(\"Result for tiff:\",evaluate_conv(sub_directories[6]))"
   ]
  }
 ],
 "metadata": {
  "kernelspec": {
   "display_name": "Python 3",
   "language": "python",
   "name": "python3"
  },
  "language_info": {
   "codemirror_mode": {
    "name": "ipython",
    "version": 3
   },
   "file_extension": ".py",
   "mimetype": "text/x-python",
   "name": "python",
   "nbconvert_exporter": "python",
   "pygments_lexer": "ipython3",
   "version": "3.10.7"
  }
 },
 "nbformat": 4,
 "nbformat_minor": 2
}
